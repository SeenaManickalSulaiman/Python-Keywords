{
 "cells": [
  {
   "cell_type": "markdown",
   "id": "d8e73519-4ca4-46b5-ad5a-b7113900d42f",
   "metadata": {},
   "source": [
    "## Python Keywords, Identifiers, Comments, Indentation and Statements"
   ]
  },
  {
   "cell_type": "markdown",
   "id": "6d1de620-ac36-4d1f-a7cd-c7a2e9f38e8b",
   "metadata": {},
   "source": [
    "### 1. Explain the significance of Python keywords and provide examples of five keywords"
   ]
  },
  {
   "cell_type": "markdown",
   "id": "1ec04887-4df7-4ac5-8b84-15123889cca5",
   "metadata": {},
   "source": [
    "* Keywords are inbuilt functions or pre-defined words which gives special meanings to python interpreter.\n",
    "* keywords cannot be used as identifiers such as variable names, constant names, function names, class names and so on.\n",
    "\n",
    "Examples : for, if, is, break, continue, or, not, and, False, True, int, try and so on. "
   ]
  },
  {
   "cell_type": "markdown",
   "id": "a2d7de19-296e-4234-aab6-03fafd20129d",
   "metadata": {},
   "source": [
    "### 2. Describe the rules for defining identifiers in Python and provide an example"
   ]
  },
  {
   "cell_type": "markdown",
   "id": "e4083ef0-6ea8-45c1-a94a-a53c5bc7a770",
   "metadata": {},
   "source": [
    "In Python, identifiers are names used to identify a variable, function, class, module, or other object.\n",
    "\n",
    "Rules for defining identifiers\n",
    "1. variables must start with a letter or an underscore. All others are invalid\n",
    "\n",
    "        Example: p, _date, address, sum, pw_skills, _gender , etc \n",
    "\n",
    "2. Variable names need to be meaningful for better interpretability. \n",
    "\n",
    "        For example, street_name = \"Deira\"  is meaningful, while xy = \"Deira\" is possible but not meaningful. \n",
    "\n",
    "3. Cannot use special characters to declare variable names or identifiers.\n",
    " \n",
    "         Example: @name , $money, a-b, total-cost, a*, and so on are invalid naming conventions.\n",
    "\n",
    "4. Cannot use keywords as the names of identifiers.\n",
    "5. Identifiers are case-sensitive. \n",
    "\n",
    "        Example: A , a (considered as two different variable names)\n",
    "\n"
   ]
  },
  {
   "cell_type": "markdown",
   "id": "85f3d85c-2d68-4dcb-8a96-53b68a091ba9",
   "metadata": {},
   "source": [
    "### 3.What are comments in Python, and why are they useful Provide an example"
   ]
  },
  {
   "cell_type": "markdown",
   "id": "7a6b9abc-54fd-4918-be03-78a98b7b4af1",
   "metadata": {},
   "source": [
    "Comments\n",
    "* Comments are non-executable statements that explain and clarify the workings of Python code.\n",
    "* Add the understandability of the end user, which cannot be executed by a Python interpreter.\n",
    "    1. single line comment\n",
    "\n",
    "            Example: a = 5 # variable declaration\n",
    "\n",
    "    2. Multi-line comments(doc string)\n",
    "\n",
    "            ''' add two numbers \n",
    "\n",
    "            and store it in another \n",
    "\n",
    "            variable '''\n",
    "\n",
    "            c = a + b\n",
    "\n"
   ]
  },
  {
   "cell_type": "markdown",
   "id": "641b0c10-fa25-4361-add6-df0a21d0db1e",
   "metadata": {},
   "source": [
    "### 4. Why is proper indentation important in Python"
   ]
  },
  {
   "cell_type": "markdown",
   "id": "cf2138f2-edcd-47b8-8d69-a8cf12cc6f76",
   "metadata": {},
   "source": [
    "Indentation (space/ tab) ----> control flow of the python code\n",
    "* Provide proper structure or alignment to the Python code. \n",
    "* which is part of the syntax instead of {} in other programming languages like c, c++, java, etc. "
   ]
  },
  {
   "cell_type": "markdown",
   "id": "32e7fef6-7629-4bb8-89f6-35cd58a0cbab",
   "metadata": {},
   "source": [
    "### 5. What happens if indentation is incorrect in Python?"
   ]
  },
  {
   "cell_type": "markdown",
   "id": "062e24da-4f51-4006-b4d4-7777910a0885",
   "metadata": {},
   "source": [
    "Without correct indentation, the Python interpreter cannot determine which statements belong together in constructs such as loops, conditionals, or function definitions. This can lead to syntax errors(will raise an IndentationError) or incorrect logic execution, making the code difficult to understand and maintain.\n",
    "\n",
    "Example: \n",
    "        \n",
    "           if (a>b):\n",
    "\n",
    "              print(\"a is greater than b\")\n",
    "              \n",
    "           else:\n",
    "           \n",
    "              print(\"b is greater than a\")"
   ]
  },
  {
   "cell_type": "markdown",
   "id": "f4d103c9-7511-44b5-b01a-de5171263ac8",
   "metadata": {},
   "source": [
    "### 6. Differentiate between expression and statement in Python with examples"
   ]
  },
  {
   "cell_type": "markdown",
   "id": "76801e1f-fcf3-4b66-8637-c134e4bb72e0",
   "metadata": {},
   "source": [
    "Statement ---> Fundamental building block of each Python code.\n",
    "* Statement is an instruction that a Python interpreter can execute.\n",
    "* Each line of code is a statement that includes variable declaration, looping, conditional branching, etc.\n",
    "* Unlike expressions, statements do not return a value; they act.\n",
    "\n",
    "        Example: a=10 # assignment statement\n",
    "\n",
    "Expression ----> Also a statement which contains operators and operands.\n",
    "* An expression in Python is any combination of literals, identifiers, function calls, and operators that evaluates to a value.\n",
    "* Expressions can always return a result value, which can be used directly in other parts of the code or operations.\n",
    "  \n",
    "Examples: \n",
    "\n",
    "    5 + 3 * 2             # Expression statement\n",
    "    \"Hello, \" + \"Seena\"   # String Expression\n",
    "    (a<b) && (a<c)        # Logical expression\n",
    "    \r",
    "\r\n",
    "\r\n"
   ]
  }
 ],
 "metadata": {
  "kernelspec": {
   "display_name": "Python 3 (ipykernel)",
   "language": "python",
   "name": "python3"
  },
  "language_info": {
   "codemirror_mode": {
    "name": "ipython",
    "version": 3
   },
   "file_extension": ".py",
   "mimetype": "text/x-python",
   "name": "python",
   "nbconvert_exporter": "python",
   "pygments_lexer": "ipython3",
   "version": "3.11.7"
  }
 },
 "nbformat": 4,
 "nbformat_minor": 5
}
